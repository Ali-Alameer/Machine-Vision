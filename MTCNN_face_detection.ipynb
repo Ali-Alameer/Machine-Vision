{
  "cells": [
    {
      "cell_type": "markdown",
      "metadata": {
        "id": "view-in-github",
        "colab_type": "text"
      },
      "source": [
        "<a href=\"https://colab.research.google.com/github/Ali-Alameer/Machine-Vision/blob/main/MTCNN_face_detection.ipynb\" target=\"_parent\"><img src=\"https://colab.research.google.com/assets/colab-badge.svg\" alt=\"Open In Colab\"/></a>"
      ]
    },
    {
      "cell_type": "markdown",
      "metadata": {
        "id": "ioKV1_rR27RK"
      },
      "source": [
        "# MTCNN face extraction\n",
        "including mouth, face and eyes\n"
      ]
    },
    {
      "cell_type": "code",
      "source": [
        "!pip install mtcnn"
      ],
      "metadata": {
        "id": "Ml2kGPMP3K0M"
      },
      "execution_count": null,
      "outputs": []
    },
    {
      "cell_type": "code",
      "execution_count": null,
      "metadata": {
        "id": "L_8e0eSj27RM"
      },
      "outputs": [],
      "source": [
        "# confirm mtcnn was installed correctly\n",
        "import numpy as np\n",
        "import mtcnn\n",
        "import cv2\n",
        "# print version\n",
        "print(mtcnn.__version__)"
      ]
    },
    {
      "cell_type": "code",
      "execution_count": null,
      "metadata": {
        "id": "f8xPBa1J27RN"
      },
      "outputs": [],
      "source": [
        "!ls"
      ]
    },
    {
      "cell_type": "code",
      "execution_count": null,
      "metadata": {
        "id": "bDZiV8lb27RO"
      },
      "outputs": [],
      "source": [
        "import matplotlib.pyplot as plt\n",
        "# load image from file\n",
        "filename = \"image1.jpg\" # an image with a face in the directory \n",
        "pixels = plt.imread(filename)\n",
        "print(\"Shape of image/array:\",pixels.shape)\n",
        "imgplot = plt.imshow(pixels)\n",
        "plt.show()"
      ]
    },
    {
      "cell_type": "code",
      "source": [
        "image.shape"
      ],
      "metadata": {
        "id": "4v3P-XOl6GSO"
      },
      "execution_count": null,
      "outputs": []
    },
    {
      "cell_type": "code",
      "execution_count": null,
      "metadata": {
        "scrolled": true,
        "id": "WFXn4nM_27RO"
      },
      "outputs": [],
      "source": [
        "detector = mtcnn.MTCNN()\n",
        "# detect faces in the image\n",
        "faces = detector.detect_faces(pixels)\n",
        "for face in faces:\n",
        "    print(face)"
      ]
    },
    {
      "cell_type": "code",
      "execution_count": null,
      "metadata": {
        "scrolled": true,
        "id": "a2F-Dx5C27RP"
      },
      "outputs": [],
      "source": [
        "# draw an image with detected objects\n",
        "def draw_facebox(filename, result_list):\n",
        "    # load the image\n",
        "    data = plt.imread(filename)\n",
        "    # plot the image\n",
        "    plt.imshow(data)\n",
        "    # get the context for drawing boxes\n",
        "    ax = plt.gca()\n",
        "    # plot each box\n",
        "    for result in result_list:\n",
        "        # get coordinates\n",
        "        x, y, width, height = result['box']\n",
        "        # create the shape\n",
        "        rect = plt.Rectangle((x, y), width, height, fill=False, color='orange')\n",
        "        # draw the box\n",
        "        ax.add_patch(rect)\n",
        "    # show the plot\n",
        "    plt.show()\n",
        " \n",
        "# filename = 'test1.jpg' # filename is defined above, otherwise uncomment\n",
        "# load image from file\n",
        "# pixels = plt.imread(filename) # defined above, otherwise uncomment\n",
        "# detector is defined above, otherwise uncomment\n",
        "#detector = mtcnn.MTCNN()\n",
        "# detect faces in the image\n",
        "faces = detector.detect_faces(pixels)\n",
        "# display faces on the original image\n",
        "draw_facebox(filename, faces)"
      ]
    },
    {
      "cell_type": "code",
      "execution_count": null,
      "metadata": {
        "id": "JA92eX1v27RP"
      },
      "outputs": [],
      "source": [
        "# draw an image with detected objects\n",
        "def draw_facebox(filename, result_list):\n",
        "    # load the image\n",
        "    data = plt.imread(filename)\n",
        "    # plot the image\n",
        "    plt.imshow(data)\n",
        "    # get the context for drawing boxes\n",
        "    ax = plt.gca()\n",
        "    # plot each box\n",
        "    for result in result_list:\n",
        "        # get coordinates\n",
        "        x, y, width, height = result['box']\n",
        "        # create the shape\n",
        "        rect = plt.Rectangle((x, y), width, height,fill=False, color='orange')\n",
        "        # draw the box\n",
        "        ax.add_patch(rect)\n",
        "        # draw the dots\n",
        "        for key, value in result['keypoints'].items():\n",
        "            # create and draw dot\n",
        "            dot = plt.Circle(value, radius=20, color='red')\n",
        "            ax.add_patch(dot)\n",
        "            # show the plot\n",
        "        plt.show()\n",
        " \n",
        "# filename = 'test1.jpg' # filename is defined above, otherwise uncomment\n",
        "# load image from file\n",
        "# pixels = plt.imread(filename) # defined above, otherwise uncomment\n",
        "# detector is defined above, otherwise uncomment\n",
        "#detector = mtcnn.MTCNN()\n",
        "# detect faces in the image\n",
        "faces = detector.detect_faces(pixels)\n",
        "# display faces on the original image\n",
        "draw_facebox(filename, faces)"
      ]
    }
  ],
  "metadata": {
    "kernelspec": {
      "display_name": "Python 3",
      "language": "python",
      "name": "python3"
    },
    "language_info": {
      "codemirror_mode": {
        "name": "ipython",
        "version": 3
      },
      "file_extension": ".py",
      "mimetype": "text/x-python",
      "name": "python",
      "nbconvert_exporter": "python",
      "pygments_lexer": "ipython3",
      "version": "3.7.4"
    },
    "colab": {
      "provenance": [],
      "include_colab_link": true
    }
  },
  "nbformat": 4,
  "nbformat_minor": 0
}