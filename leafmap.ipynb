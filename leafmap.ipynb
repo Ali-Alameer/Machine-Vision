{
  "cells": [
    {
      "cell_type": "markdown",
      "metadata": {
        "id": "view-in-github",
        "colab_type": "text"
      },
      "source": [
        "<a href=\"https://colab.research.google.com/github/Ali-Alameer/Machine-Vision/blob/main/leafmap.ipynb\" target=\"_parent\"><img src=\"https://colab.research.google.com/assets/colab-badge.svg\" alt=\"Open In Colab\"/></a>"
      ]
    },
    {
      "cell_type": "markdown",
      "metadata": {
        "id": "f33_uTKOyt7o"
      },
      "source": [
        "**Introducing the leafmap Python package for interactive mapping**\n",
        "\n",
        "Uncomment the following line to install [leafmap](https://leafmap.org) if needed."
      ],
      "id": "f33_uTKOyt7o"
    },
    {
      "cell_type": "code",
      "execution_count": null,
      "metadata": {
        "id": "8IpKESfdyt7q"
      },
      "outputs": [],
      "source": [
        "!pip install leafmap"
      ],
      "id": "8IpKESfdyt7q"
    },
    {
      "cell_type": "markdown",
      "metadata": {
        "id": "XLVZFG-Dyt7r"
      },
      "source": [
        "`leafmap` has four plotting backends: [folium](https://github.com/python-visualization/folium), [ipyleaflet](https://github.com/jupyter-widgets/ipyleaflet), [here-map](https://github.com/heremaps/here-map-widget-for-jupyter), and [kepler.gl](https://docs.kepler.gl/docs/keplergl-jupyter). Note that the backends do not offer equal functionality. Some interactive functionality in `ipyleaflet` might not be available in other plotting backends. To use a specific plotting backend, use one of the following:\n",
        "\n",
        "- `import leafmap.leafmap as leafmap`\n",
        "- `import leafmap.foliumap as leafmap`\n",
        "- `import leafmap.heremap as leafmap`\n",
        "- `import leafmap.kepler as leafmap`"
      ],
      "id": "XLVZFG-Dyt7r"
    },
    {
      "cell_type": "code",
      "execution_count": null,
      "metadata": {
        "id": "xuIwEs-Gyt7r"
      },
      "outputs": [],
      "source": [
        "import leafmap"
      ],
      "id": "xuIwEs-Gyt7r"
    },
    {
      "cell_type": "markdown",
      "metadata": {
        "id": "DsHlXSDByt7r"
      },
      "source": [
        "Create an interactive map."
      ],
      "id": "DsHlXSDByt7r"
    },
    {
      "cell_type": "code",
      "execution_count": null,
      "metadata": {
        "id": "eFBxGINAyt7s"
      },
      "outputs": [],
      "source": [
        "m = leafmap.Map()\n",
        "m"
      ],
      "id": "eFBxGINAyt7s"
    },
    {
      "cell_type": "markdown",
      "metadata": {
        "id": "39VfH7QCyt7s"
      },
      "source": [
        "Specify the default map center and zoom level."
      ],
      "id": "39VfH7QCyt7s"
    },
    {
      "cell_type": "code",
      "execution_count": null,
      "metadata": {
        "id": "VbdPSI52yt7s"
      },
      "outputs": [],
      "source": [
        "m = leafmap.Map(center=[50, 19], zoom=4)  # center=[lat, lon]\n",
        "m"
      ],
      "id": "VbdPSI52yt7s"
    },
    {
      "cell_type": "markdown",
      "metadata": {
        "id": "xno19I5eyt7s"
      },
      "source": [
        "Set the visibility of map controls."
      ],
      "id": "xno19I5eyt7s"
    },
    {
      "cell_type": "code",
      "execution_count": null,
      "metadata": {
        "id": "D2Oj_3ecyt7t"
      },
      "outputs": [],
      "source": [
        "m = leafmap.Map(\n",
        "    draw_control=False,\n",
        "    measure_control=False,\n",
        "    fullscreen_control=False,\n",
        "    attribution_control=True,\n",
        ")\n",
        "m"
      ],
      "id": "D2Oj_3ecyt7t"
    },
    {
      "cell_type": "markdown",
      "metadata": {
        "id": "Zxu3rnxFyt7t"
      },
      "source": [
        "Change the map width and height."
      ],
      "id": "Zxu3rnxFyt7t"
    },
    {
      "cell_type": "code",
      "execution_count": null,
      "metadata": {
        "id": "Owo9aYyJyt7t"
      },
      "outputs": [],
      "source": [
        "m = leafmap.Map(height=\"450px\", width=\"800px\")\n",
        "m"
      ],
      "id": "Owo9aYyJyt7t"
    },
    {
      "cell_type": "markdown",
      "metadata": {
        "id": "pr3L4UDDyt7t"
      },
      "source": [
        "Use the `ipyleaflet` plotting backend."
      ],
      "id": "pr3L4UDDyt7t"
    },
    {
      "cell_type": "code",
      "execution_count": null,
      "metadata": {
        "id": "8e6z9Wycyt7t"
      },
      "outputs": [],
      "source": [
        "import leafmap.leafmap as leafmap"
      ],
      "id": "8e6z9Wycyt7t"
    },
    {
      "cell_type": "code",
      "execution_count": null,
      "metadata": {
        "id": "Xfaf3p16yt7t"
      },
      "outputs": [],
      "source": [
        "m = leafmap.Map()\n",
        "m"
      ],
      "id": "Xfaf3p16yt7t"
    },
    {
      "cell_type": "markdown",
      "metadata": {
        "id": "6zuqGugbyt7t"
      },
      "source": [
        "Use the `folium` plotting backend."
      ],
      "id": "6zuqGugbyt7t"
    },
    {
      "cell_type": "code",
      "execution_count": null,
      "metadata": {
        "id": "FC_9Alquyt7t"
      },
      "outputs": [],
      "source": [
        "import leafmap.foliumap as leafmap"
      ],
      "id": "FC_9Alquyt7t"
    },
    {
      "cell_type": "code",
      "execution_count": null,
      "metadata": {
        "id": "iXNbhmeiyt7u"
      },
      "outputs": [],
      "source": [
        "m = leafmap.Map()\n",
        "m"
      ],
      "id": "iXNbhmeiyt7u"
    }
  ],
  "metadata": {
    "kernelspec": {
      "display_name": "Python 3",
      "language": "python",
      "name": "python3"
    },
    "colab": {
      "provenance": [],
      "include_colab_link": true
    }
  },
  "nbformat": 4,
  "nbformat_minor": 5
}